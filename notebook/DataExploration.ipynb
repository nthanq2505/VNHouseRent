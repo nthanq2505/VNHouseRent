{
 "cells": [
  {
   "attachments": {},
   "cell_type": "markdown",
   "metadata": {},
   "source": [
    "## B. Data Exploration"
   ]
  },
  {
   "attachments": {},
   "cell_type": "markdown",
   "metadata": {},
   "source": [
    "In this phase, we will answer the following questions:\n",
    "1. How many rows and how many columns?\n",
    "2. What is the meaning of each row?\n",
    "3. Are there duplicated rows?\n",
    "4. What is the meaning of each column?\n",
    "5. What is the current data type of each column? Are there columns having\n",
    "inappropriate data types?\n",
    "6. With each numerical column, how are values distributed?\n",
    "    - What is the percentage ofmissing values?\n",
    "    - Min? max? Are they abnormal?\n",
    "7. With each categorical column, how are values distributed?\n",
    "    - What is the percentage of missing values?\n",
    "    - How many different values? Show a few Are they abnormal?"
   ]
  },
  {
   "attachments": {},
   "cell_type": "markdown",
   "metadata": {},
   "source": [
    "---\n",
    "### Import libraries nesscessary "
   ]
  },
  {
   "cell_type": "code",
   "execution_count": 14,
   "metadata": {},
   "outputs": [],
   "source": [
    "import pandas as pd\n",
    "import matplotlib.pyplot as plt\n",
    "import numpy as np"
   ]
  },
  {
   "cell_type": "code",
   "execution_count": 15,
   "metadata": {},
   "outputs": [
    {
     "data": {
      "text/html": [
       "<div>\n",
       "<style scoped>\n",
       "    .dataframe tbody tr th:only-of-type {\n",
       "        vertical-align: middle;\n",
       "    }\n",
       "\n",
       "    .dataframe tbody tr th {\n",
       "        vertical-align: top;\n",
       "    }\n",
       "\n",
       "    .dataframe thead th {\n",
       "        text-align: right;\n",
       "    }\n",
       "</style>\n",
       "<table border=\"1\" class=\"dataframe\">\n",
       "  <thead>\n",
       "    <tr style=\"text-align: right;\">\n",
       "      <th></th>\n",
       "      <th>id</th>\n",
       "      <th>title</th>\n",
       "      <th>price</th>\n",
       "      <th>published</th>\n",
       "      <th>acreage</th>\n",
       "      <th>street</th>\n",
       "      <th>ward</th>\n",
       "      <th>district</th>\n",
       "    </tr>\n",
       "  </thead>\n",
       "  <tbody>\n",
       "    <tr>\n",
       "      <th>0</th>\n",
       "      <td>0</td>\n",
       "      <td>Cho thuê nhà trọ mới sạch đẹp tại Lê Đình Cẩn,...</td>\n",
       "      <td>2200000</td>\n",
       "      <td>2022-05-16</td>\n",
       "      <td>20.0</td>\n",
       "      <td>Lê Đình Cẩn</td>\n",
       "      <td>Phường Tân Tạo</td>\n",
       "      <td>Quận Bình Tân</td>\n",
       "    </tr>\n",
       "    <tr>\n",
       "      <th>1</th>\n",
       "      <td>1</td>\n",
       "      <td>Cho thuê phòng trọ giá rẻ ở mặt tiền hẻm lớn Đ...</td>\n",
       "      <td>2500000</td>\n",
       "      <td>2022-04-20</td>\n",
       "      <td>20.0</td>\n",
       "      <td>487/35/25 Đường Huỳnh Tấn Phát</td>\n",
       "      <td>Phường Tân Thuận Đông</td>\n",
       "      <td>Quận 7</td>\n",
       "    </tr>\n",
       "    <tr>\n",
       "      <th>2</th>\n",
       "      <td>2</td>\n",
       "      <td>Cho thuê phòng trọ kdc Nam Long-Trần Trọng Cun...</td>\n",
       "      <td>3500000</td>\n",
       "      <td>2022-05-10</td>\n",
       "      <td>30.0</td>\n",
       "      <td>Đường 10</td>\n",
       "      <td>Phường Tân Thuận Đông</td>\n",
       "      <td>Quận 7</td>\n",
       "    </tr>\n",
       "    <tr>\n",
       "      <th>3</th>\n",
       "      <td>3</td>\n",
       "      <td>Phòng trọ giá rẻ ngay cổng khu chế xuất Tân Th...</td>\n",
       "      <td>1500000</td>\n",
       "      <td>2022-05-05</td>\n",
       "      <td>30.0</td>\n",
       "      <td>283/15 Huỳnh Tấn Phát</td>\n",
       "      <td>Phường Tân Thuận Đông</td>\n",
       "      <td>Quận 7</td>\n",
       "    </tr>\n",
       "    <tr>\n",
       "      <th>4</th>\n",
       "      <td>4</td>\n",
       "      <td>Cho thuê phòng có gác, không gác, tolet riêng ...</td>\n",
       "      <td>3500000</td>\n",
       "      <td>2022-01-05</td>\n",
       "      <td>18.0</td>\n",
       "      <td>Lê Văn Sỹ</td>\n",
       "      <td>Phường 14</td>\n",
       "      <td>Quận Phú Nhuận</td>\n",
       "    </tr>\n",
       "  </tbody>\n",
       "</table>\n",
       "</div>"
      ],
      "text/plain": [
       "   id                                              title    price   published  \\\n",
       "0   0  Cho thuê nhà trọ mới sạch đẹp tại Lê Đình Cẩn,...  2200000  2022-05-16   \n",
       "1   1  Cho thuê phòng trọ giá rẻ ở mặt tiền hẻm lớn Đ...  2500000  2022-04-20   \n",
       "2   2  Cho thuê phòng trọ kdc Nam Long-Trần Trọng Cun...  3500000  2022-05-10   \n",
       "3   3  Phòng trọ giá rẻ ngay cổng khu chế xuất Tân Th...  1500000  2022-05-05   \n",
       "4   4  Cho thuê phòng có gác, không gác, tolet riêng ...  3500000  2022-01-05   \n",
       "\n",
       "   acreage                          street                   ward  \\\n",
       "0     20.0                     Lê Đình Cẩn         Phường Tân Tạo   \n",
       "1     20.0  487/35/25 Đường Huỳnh Tấn Phát  Phường Tân Thuận Đông   \n",
       "2     30.0                        Đường 10  Phường Tân Thuận Đông   \n",
       "3     30.0           283/15 Huỳnh Tấn Phát  Phường Tân Thuận Đông   \n",
       "4     18.0                       Lê Văn Sỹ              Phường 14   \n",
       "\n",
       "         district  \n",
       "0   Quận Bình Tân  \n",
       "1          Quận 7  \n",
       "2          Quận 7  \n",
       "3          Quận 7  \n",
       "4  Quận Phú Nhuận  "
      ]
     },
     "execution_count": 15,
     "metadata": {},
     "output_type": "execute_result"
    }
   ],
   "source": [
    "# Read data from csv file into Pandas dataframe\n",
    "rented_house_df = pd.read_csv('../data/HCMHouseRentPreprocessing.csv', sep=',')\n",
    "rented_house_df.head()"
   ]
  },
  {
   "attachments": {},
   "cell_type": "markdown",
   "metadata": {},
   "source": [
    "### 1. How many rows and how many columns?"
   ]
  },
  {
   "cell_type": "code",
   "execution_count": 16,
   "metadata": {},
   "outputs": [
    {
     "name": "stdout",
     "output_type": "stream",
     "text": [
      "Number of rows:  8948\n",
      "Number of columns:  8\n"
     ]
    }
   ],
   "source": [
    "num_rows = rented_house_df.shape[0]\n",
    "num_cols = rented_house_df.shape[1]\n",
    "print('Number of rows: ', num_rows)\n",
    "print('Number of columns: ', num_cols)"
   ]
  },
  {
   "attachments": {},
   "cell_type": "markdown",
   "metadata": {},
   "source": [
    "### 2. What is the meaning of each row?"
   ]
  },
  {
   "attachments": {},
   "cell_type": "markdown",
   "metadata": {},
   "source": [
    "A line indicates the information about renting a house in Ho Chi Minh City. Each line provides prices, Acreage in square meter, published date and the address of the house.\n"
   ]
  },
  {
   "attachments": {},
   "cell_type": "markdown",
   "metadata": {},
   "source": [
    "### 3. Are there duplicated rows?"
   ]
  },
  {
   "cell_type": "code",
   "execution_count": 17,
   "metadata": {},
   "outputs": [
    {
     "data": {
      "text/plain": [
       "0"
      ]
     },
     "execution_count": 17,
     "metadata": {},
     "output_type": "execute_result"
    }
   ],
   "source": [
    "num_duplicated_rows = rented_house_df.index.duplicated(keep='first').sum()\n",
    "num_duplicated_rows"
   ]
  },
  {
   "attachments": {},
   "cell_type": "markdown",
   "metadata": {},
   "source": [
    "### 4. What is the meaning of each column?"
   ]
  },
  {
   "attachments": {},
   "cell_type": "markdown",
   "metadata": {},
   "source": [
    "Here is the description about the columns in the file \"HCMHouseRentPreprocessing.csv\":\n",
    "- **title**: the title of the rented houses\n",
    "- **price**: price of the rented houses (if price is -1, it mean the owner want to disscuss more)\n",
    "- **acreage**:  acreage in square meter of the rented houses\n",
    "- **street**: the street of the rented houses\n",
    "- **ward**: the ward of the rented houses\n",
    "- **district**: the district of the rented houses\n",
    "    "
   ]
  },
  {
   "attachments": {},
   "cell_type": "markdown",
   "metadata": {},
   "source": [
    "### 5. What is the current data type of each column? Are there columns having inappropriate data types?"
   ]
  },
  {
   "cell_type": "code",
   "execution_count": 18,
   "metadata": {},
   "outputs": [
    {
     "data": {
      "text/plain": [
       "id             int64\n",
       "title         object\n",
       "price          int64\n",
       "published     object\n",
       "acreage      float64\n",
       "street        object\n",
       "ward          object\n",
       "district      object\n",
       "dtype: object"
      ]
     },
     "execution_count": 18,
     "metadata": {},
     "output_type": "execute_result"
    }
   ],
   "source": [
    "col_dtypes = rented_house_df.dtypes\n",
    "col_dtypes"
   ]
  },
  {
   "attachments": {},
   "cell_type": "markdown",
   "metadata": {},
   "source": [
    "What does columns that have object dtype mean?**\n",
    "There are 4 columns with the datatype of `object`: \"published\", \"street\", \"ward\", \"district\"."
   ]
  },
  {
   "cell_type": "code",
   "execution_count": 19,
   "metadata": {},
   "outputs": [],
   "source": [
    "def open_object_dtype(s):\n",
    "    dtypes = set()\n",
    "\n",
    "    dtypes = set(s.apply(type))\n",
    "    \n",
    "    return dtypes"
   ]
  },
  {
   "cell_type": "code",
   "execution_count": 20,
   "metadata": {},
   "outputs": [
    {
     "data": {
      "text/plain": [
       "{str}"
      ]
     },
     "execution_count": 20,
     "metadata": {},
     "output_type": "execute_result"
    }
   ],
   "source": [
    "open_object_dtype(rented_house_df['published'])"
   ]
  },
  {
   "attachments": {},
   "cell_type": "markdown",
   "metadata": {},
   "source": [
    "Issues that need to be reprocessed:\n",
    "\n",
    "- The column \"published\" has `str` data type. To further explore this column, we will perform the preprocessing step of converting it to `datetime` data type."
   ]
  },
  {
   "cell_type": "code",
   "execution_count": 27,
   "metadata": {},
   "outputs": [
    {
     "data": {
      "text/html": [
       "<div>\n",
       "<style scoped>\n",
       "    .dataframe tbody tr th:only-of-type {\n",
       "        vertical-align: middle;\n",
       "    }\n",
       "\n",
       "    .dataframe tbody tr th {\n",
       "        vertical-align: top;\n",
       "    }\n",
       "\n",
       "    .dataframe thead th {\n",
       "        text-align: right;\n",
       "    }\n",
       "</style>\n",
       "<table border=\"1\" class=\"dataframe\">\n",
       "  <thead>\n",
       "    <tr style=\"text-align: right;\">\n",
       "      <th></th>\n",
       "      <th>id</th>\n",
       "      <th>title</th>\n",
       "      <th>price</th>\n",
       "      <th>published</th>\n",
       "      <th>acreage</th>\n",
       "      <th>street</th>\n",
       "      <th>ward</th>\n",
       "      <th>district</th>\n",
       "    </tr>\n",
       "  </thead>\n",
       "  <tbody>\n",
       "    <tr>\n",
       "      <th>0</th>\n",
       "      <td>0</td>\n",
       "      <td>Cho thuê nhà trọ mới sạch đẹp tại Lê Đình Cẩn,...</td>\n",
       "      <td>2200000</td>\n",
       "      <td>2022-05-16</td>\n",
       "      <td>20.0</td>\n",
       "      <td>Lê Đình Cẩn</td>\n",
       "      <td>Phường Tân Tạo</td>\n",
       "      <td>Quận Bình Tân</td>\n",
       "    </tr>\n",
       "    <tr>\n",
       "      <th>1</th>\n",
       "      <td>1</td>\n",
       "      <td>Cho thuê phòng trọ giá rẻ ở mặt tiền hẻm lớn Đ...</td>\n",
       "      <td>2500000</td>\n",
       "      <td>2022-04-20</td>\n",
       "      <td>20.0</td>\n",
       "      <td>487/35/25 Đường Huỳnh Tấn Phát</td>\n",
       "      <td>Phường Tân Thuận Đông</td>\n",
       "      <td>Quận 7</td>\n",
       "    </tr>\n",
       "    <tr>\n",
       "      <th>2</th>\n",
       "      <td>2</td>\n",
       "      <td>Cho thuê phòng trọ kdc Nam Long-Trần Trọng Cun...</td>\n",
       "      <td>3500000</td>\n",
       "      <td>2022-05-10</td>\n",
       "      <td>30.0</td>\n",
       "      <td>Đường 10</td>\n",
       "      <td>Phường Tân Thuận Đông</td>\n",
       "      <td>Quận 7</td>\n",
       "    </tr>\n",
       "    <tr>\n",
       "      <th>3</th>\n",
       "      <td>3</td>\n",
       "      <td>Phòng trọ giá rẻ ngay cổng khu chế xuất Tân Th...</td>\n",
       "      <td>1500000</td>\n",
       "      <td>2022-05-05</td>\n",
       "      <td>30.0</td>\n",
       "      <td>283/15 Huỳnh Tấn Phát</td>\n",
       "      <td>Phường Tân Thuận Đông</td>\n",
       "      <td>Quận 7</td>\n",
       "    </tr>\n",
       "    <tr>\n",
       "      <th>4</th>\n",
       "      <td>4</td>\n",
       "      <td>Cho thuê phòng có gác, không gác, tolet riêng ...</td>\n",
       "      <td>3500000</td>\n",
       "      <td>2022-01-05</td>\n",
       "      <td>18.0</td>\n",
       "      <td>Lê Văn Sỹ</td>\n",
       "      <td>Phường 14</td>\n",
       "      <td>Quận Phú Nhuận</td>\n",
       "    </tr>\n",
       "  </tbody>\n",
       "</table>\n",
       "</div>"
      ],
      "text/plain": [
       "   id                                              title    price  published  \\\n",
       "0   0  Cho thuê nhà trọ mới sạch đẹp tại Lê Đình Cẩn,...  2200000 2022-05-16   \n",
       "1   1  Cho thuê phòng trọ giá rẻ ở mặt tiền hẻm lớn Đ...  2500000 2022-04-20   \n",
       "2   2  Cho thuê phòng trọ kdc Nam Long-Trần Trọng Cun...  3500000 2022-05-10   \n",
       "3   3  Phòng trọ giá rẻ ngay cổng khu chế xuất Tân Th...  1500000 2022-05-05   \n",
       "4   4  Cho thuê phòng có gác, không gác, tolet riêng ...  3500000 2022-01-05   \n",
       "\n",
       "   acreage                          street                   ward  \\\n",
       "0     20.0                     Lê Đình Cẩn         Phường Tân Tạo   \n",
       "1     20.0  487/35/25 Đường Huỳnh Tấn Phát  Phường Tân Thuận Đông   \n",
       "2     30.0                        Đường 10  Phường Tân Thuận Đông   \n",
       "3     30.0           283/15 Huỳnh Tấn Phát  Phường Tân Thuận Đông   \n",
       "4     18.0                       Lê Văn Sỹ              Phường 14   \n",
       "\n",
       "         district  \n",
       "0   Quận Bình Tân  \n",
       "1          Quận 7  \n",
       "2          Quận 7  \n",
       "3          Quận 7  \n",
       "4  Quận Phú Nhuận  "
      ]
     },
     "execution_count": 27,
     "metadata": {},
     "output_type": "execute_result"
    }
   ],
   "source": [
    "# Convert dtype of \"published\" column to datetime\n",
    "rented_house_df['published'] = pd.to_datetime(rented_house_df['published'], format='%Y/%m/%d')\n",
    "rented_house_df.head()\n"
   ]
  },
  {
   "cell_type": "code",
   "execution_count": 28,
   "metadata": {},
   "outputs": [
    {
     "data": {
      "text/plain": [
       "0      2022-05-16\n",
       "1      2022-04-20\n",
       "2      2022-05-10\n",
       "3      2022-05-05\n",
       "4      2022-01-05\n",
       "          ...    \n",
       "8943   2020-10-30\n",
       "8944   2020-11-23\n",
       "8945   2022-07-28\n",
       "8946   2020-11-25\n",
       "8947   2021-03-08\n",
       "Name: published, Length: 8941, dtype: datetime64[ns]"
      ]
     },
     "execution_count": 28,
     "metadata": {},
     "output_type": "execute_result"
    }
   ],
   "source": [
    "rented_house_df['published']"
   ]
  },
  {
   "attachments": {},
   "cell_type": "markdown",
   "metadata": {},
   "source": [
    "### 6. With each numerical column, how are values distributed?\n",
    "        - What is the percentage of missing values?\n",
    "        - Min? max? Are they abnormal?"
   ]
  },
  {
   "attachments": {},
   "cell_type": "markdown",
   "metadata": {},
   "source": [
    "- What is the percentage of missing values?"
   ]
  },
  {
   "cell_type": "code",
   "execution_count": 22,
   "metadata": {},
   "outputs": [
    {
     "data": {
      "text/html": [
       "<div>\n",
       "<style scoped>\n",
       "    .dataframe tbody tr th:only-of-type {\n",
       "        vertical-align: middle;\n",
       "    }\n",
       "\n",
       "    .dataframe tbody tr th {\n",
       "        vertical-align: top;\n",
       "    }\n",
       "\n",
       "    .dataframe thead th {\n",
       "        text-align: right;\n",
       "    }\n",
       "</style>\n",
       "<table border=\"1\" class=\"dataframe\">\n",
       "  <thead>\n",
       "    <tr style=\"text-align: right;\">\n",
       "      <th></th>\n",
       "      <th>id</th>\n",
       "      <th>price</th>\n",
       "      <th>acreage</th>\n",
       "    </tr>\n",
       "  </thead>\n",
       "  <tbody>\n",
       "    <tr>\n",
       "      <th>missing_ratio</th>\n",
       "      <td>0.0</td>\n",
       "      <td>0.0</td>\n",
       "      <td>0.0</td>\n",
       "    </tr>\n",
       "  </tbody>\n",
       "</table>\n",
       "</div>"
      ],
      "text/plain": [
       "                id  price  acreage\n",
       "missing_ratio  0.0    0.0      0.0"
      ]
     },
     "execution_count": 22,
     "metadata": {},
     "output_type": "execute_result"
    }
   ],
   "source": [
    "num_cols_df = pd.DataFrame(columns=rented_house_df.columns.drop(['title', 'published', 'street', 'ward', 'district']))\n",
    "\n",
    "num_missing_val = rented_house_df[num_cols_df.columns].isnull().sum()\n",
    "\n",
    "num_cols_df.loc['missing_ratio'] = num_missing_val / num_rows * 100\n",
    "\n",
    "num_cols_df\n"
   ]
  },
  {
   "attachments": {},
   "cell_type": "markdown",
   "metadata": {},
   "source": [
    "- Min? max? Are they abnormal?"
   ]
  },
  {
   "cell_type": "code",
   "execution_count": 23,
   "metadata": {},
   "outputs": [
    {
     "data": {
      "text/html": [
       "<div>\n",
       "<style scoped>\n",
       "    .dataframe tbody tr th:only-of-type {\n",
       "        vertical-align: middle;\n",
       "    }\n",
       "\n",
       "    .dataframe tbody tr th {\n",
       "        vertical-align: top;\n",
       "    }\n",
       "\n",
       "    .dataframe thead th {\n",
       "        text-align: right;\n",
       "    }\n",
       "</style>\n",
       "<table border=\"1\" class=\"dataframe\">\n",
       "  <thead>\n",
       "    <tr style=\"text-align: right;\">\n",
       "      <th></th>\n",
       "      <th>id</th>\n",
       "      <th>price</th>\n",
       "      <th>acreage</th>\n",
       "    </tr>\n",
       "  </thead>\n",
       "  <tbody>\n",
       "    <tr>\n",
       "      <th>count</th>\n",
       "      <td>8948.000000</td>\n",
       "      <td>8.948000e+03</td>\n",
       "      <td>8948.000000</td>\n",
       "    </tr>\n",
       "    <tr>\n",
       "      <th>mean</th>\n",
       "      <td>4721.086835</td>\n",
       "      <td>3.423750e+06</td>\n",
       "      <td>26.326056</td>\n",
       "    </tr>\n",
       "    <tr>\n",
       "      <th>std</th>\n",
       "      <td>2721.921222</td>\n",
       "      <td>3.388884e+06</td>\n",
       "      <td>29.888507</td>\n",
       "    </tr>\n",
       "    <tr>\n",
       "      <th>min</th>\n",
       "      <td>0.000000</td>\n",
       "      <td>-1.000000e+06</td>\n",
       "      <td>0.000000</td>\n",
       "    </tr>\n",
       "    <tr>\n",
       "      <th>25%</th>\n",
       "      <td>2390.750000</td>\n",
       "      <td>2.300000e+06</td>\n",
       "      <td>20.000000</td>\n",
       "    </tr>\n",
       "    <tr>\n",
       "      <th>50%</th>\n",
       "      <td>4708.500000</td>\n",
       "      <td>3.200000e+06</td>\n",
       "      <td>25.000000</td>\n",
       "    </tr>\n",
       "    <tr>\n",
       "      <th>75%</th>\n",
       "      <td>7057.250000</td>\n",
       "      <td>4.000000e+06</td>\n",
       "      <td>30.000000</td>\n",
       "    </tr>\n",
       "    <tr>\n",
       "      <th>max</th>\n",
       "      <td>9501.000000</td>\n",
       "      <td>1.500000e+08</td>\n",
       "      <td>1000.000000</td>\n",
       "    </tr>\n",
       "  </tbody>\n",
       "</table>\n",
       "</div>"
      ],
      "text/plain": [
       "                id         price      acreage\n",
       "count  8948.000000  8.948000e+03  8948.000000\n",
       "mean   4721.086835  3.423750e+06    26.326056\n",
       "std    2721.921222  3.388884e+06    29.888507\n",
       "min       0.000000 -1.000000e+06     0.000000\n",
       "25%    2390.750000  2.300000e+06    20.000000\n",
       "50%    4708.500000  3.200000e+06    25.000000\n",
       "75%    7057.250000  4.000000e+06    30.000000\n",
       "max    9501.000000  1.500000e+08  1000.000000"
      ]
     },
     "execution_count": 23,
     "metadata": {},
     "output_type": "execute_result"
    }
   ],
   "source": [
    "rented_house_df.describe()"
   ]
  },
  {
   "attachments": {},
   "cell_type": "markdown",
   "metadata": {},
   "source": [
    "- Because the acreage of the rented houses can not equal 0. So we need to remove them."
   ]
  },
  {
   "cell_type": "code",
   "execution_count": 24,
   "metadata": {},
   "outputs": [],
   "source": [
    "# remove the rows with acreage is 0\n",
    "rented_house_df = rented_house_df[rented_house_df['acreage'] != 0]"
   ]
  },
  {
   "cell_type": "code",
   "execution_count": 25,
   "metadata": {},
   "outputs": [
    {
     "data": {
      "text/html": [
       "<div>\n",
       "<style scoped>\n",
       "    .dataframe tbody tr th:only-of-type {\n",
       "        vertical-align: middle;\n",
       "    }\n",
       "\n",
       "    .dataframe tbody tr th {\n",
       "        vertical-align: top;\n",
       "    }\n",
       "\n",
       "    .dataframe thead th {\n",
       "        text-align: right;\n",
       "    }\n",
       "</style>\n",
       "<table border=\"1\" class=\"dataframe\">\n",
       "  <thead>\n",
       "    <tr style=\"text-align: right;\">\n",
       "      <th></th>\n",
       "      <th>id</th>\n",
       "      <th>price</th>\n",
       "      <th>acreage</th>\n",
       "    </tr>\n",
       "  </thead>\n",
       "  <tbody>\n",
       "    <tr>\n",
       "      <th>count</th>\n",
       "      <td>8941.000000</td>\n",
       "      <td>8.941000e+03</td>\n",
       "      <td>8941.000000</td>\n",
       "    </tr>\n",
       "    <tr>\n",
       "      <th>mean</th>\n",
       "      <td>4721.301309</td>\n",
       "      <td>3.425055e+06</td>\n",
       "      <td>26.346667</td>\n",
       "    </tr>\n",
       "    <tr>\n",
       "      <th>std</th>\n",
       "      <td>2721.512619</td>\n",
       "      <td>3.389699e+06</td>\n",
       "      <td>29.891123</td>\n",
       "    </tr>\n",
       "    <tr>\n",
       "      <th>min</th>\n",
       "      <td>0.000000</td>\n",
       "      <td>-1.000000e+06</td>\n",
       "      <td>2.000000</td>\n",
       "    </tr>\n",
       "    <tr>\n",
       "      <th>25%</th>\n",
       "      <td>2392.000000</td>\n",
       "      <td>2.300000e+06</td>\n",
       "      <td>20.000000</td>\n",
       "    </tr>\n",
       "    <tr>\n",
       "      <th>50%</th>\n",
       "      <td>4709.000000</td>\n",
       "      <td>3.200000e+06</td>\n",
       "      <td>25.000000</td>\n",
       "    </tr>\n",
       "    <tr>\n",
       "      <th>75%</th>\n",
       "      <td>7056.000000</td>\n",
       "      <td>4.000000e+06</td>\n",
       "      <td>30.000000</td>\n",
       "    </tr>\n",
       "    <tr>\n",
       "      <th>max</th>\n",
       "      <td>9501.000000</td>\n",
       "      <td>1.500000e+08</td>\n",
       "      <td>1000.000000</td>\n",
       "    </tr>\n",
       "  </tbody>\n",
       "</table>\n",
       "</div>"
      ],
      "text/plain": [
       "                id         price      acreage\n",
       "count  8941.000000  8.941000e+03  8941.000000\n",
       "mean   4721.301309  3.425055e+06    26.346667\n",
       "std    2721.512619  3.389699e+06    29.891123\n",
       "min       0.000000 -1.000000e+06     2.000000\n",
       "25%    2392.000000  2.300000e+06    20.000000\n",
       "50%    4709.000000  3.200000e+06    25.000000\n",
       "75%    7056.000000  4.000000e+06    30.000000\n",
       "max    9501.000000  1.500000e+08  1000.000000"
      ]
     },
     "execution_count": 25,
     "metadata": {},
     "output_type": "execute_result"
    }
   ],
   "source": [
    "rented_house_df.describe()"
   ]
  },
  {
   "attachments": {},
   "cell_type": "markdown",
   "metadata": {},
   "source": [
    "### 7. With each categorical column, how are values distributed?\n",
    "        - What is the percentage of missing values?\n",
    "        - How many different values? Show a few Are they abnormal?"
   ]
  },
  {
   "cell_type": "code",
   "execution_count": 26,
   "metadata": {},
   "outputs": [
    {
     "data": {
      "text/html": [
       "<div>\n",
       "<style scoped>\n",
       "    .dataframe tbody tr th:only-of-type {\n",
       "        vertical-align: middle;\n",
       "    }\n",
       "\n",
       "    .dataframe tbody tr th {\n",
       "        vertical-align: top;\n",
       "    }\n",
       "\n",
       "    .dataframe thead th {\n",
       "        text-align: right;\n",
       "    }\n",
       "</style>\n",
       "<table border=\"1\" class=\"dataframe\">\n",
       "  <thead>\n",
       "    <tr style=\"text-align: right;\">\n",
       "      <th></th>\n",
       "      <th>id</th>\n",
       "      <th>title</th>\n",
       "      <th>published</th>\n",
       "      <th>street</th>\n",
       "      <th>ward</th>\n",
       "      <th>district</th>\n",
       "    </tr>\n",
       "  </thead>\n",
       "  <tbody>\n",
       "    <tr>\n",
       "      <th>missing_ratio</th>\n",
       "      <td>0.0</td>\n",
       "      <td>0.0</td>\n",
       "      <td>0.0</td>\n",
       "      <td>0.0</td>\n",
       "      <td>0.0</td>\n",
       "      <td>0.0</td>\n",
       "    </tr>\n",
       "    <tr>\n",
       "      <th>num_diff_vals</th>\n",
       "      <td>8941.0</td>\n",
       "      <td>8935.0</td>\n",
       "      <td>1671.0</td>\n",
       "      <td>5628.0</td>\n",
       "      <td>166.0</td>\n",
       "      <td>24.0</td>\n",
       "    </tr>\n",
       "    <tr>\n",
       "      <th>diff_vals</th>\n",
       "      <td>[0, 1, 2, 3, 4, 5, 6, 7, 8, 9, 10, 11, 12, 13,...</td>\n",
       "      <td>[Cho thuê nhà trọ mới sạch đẹp tại Lê Đình Cẩn...</td>\n",
       "      <td>[2022-05-16T00:00:00.000000000, 2022-04-20T00:...</td>\n",
       "      <td>[Lê Đình Cẩn, 487/35/25 Đường Huỳnh Tấn Phát, ...</td>\n",
       "      <td>[Phường Tân Tạo, Phường Tân Thuận Đông, Phường...</td>\n",
       "      <td>[Quận Bình Tân, Quận 7, Quận Phú Nhuận, Quận 3...</td>\n",
       "    </tr>\n",
       "  </tbody>\n",
       "</table>\n",
       "</div>"
      ],
      "text/plain": [
       "                                                              id  \\\n",
       "missing_ratio                                                0.0   \n",
       "num_diff_vals                                             8941.0   \n",
       "diff_vals      [0, 1, 2, 3, 4, 5, 6, 7, 8, 9, 10, 11, 12, 13,...   \n",
       "\n",
       "                                                           title  \\\n",
       "missing_ratio                                                0.0   \n",
       "num_diff_vals                                             8935.0   \n",
       "diff_vals      [Cho thuê nhà trọ mới sạch đẹp tại Lê Đình Cẩn...   \n",
       "\n",
       "                                                       published  \\\n",
       "missing_ratio                                                0.0   \n",
       "num_diff_vals                                             1671.0   \n",
       "diff_vals      [2022-05-16T00:00:00.000000000, 2022-04-20T00:...   \n",
       "\n",
       "                                                          street  \\\n",
       "missing_ratio                                                0.0   \n",
       "num_diff_vals                                             5628.0   \n",
       "diff_vals      [Lê Đình Cẩn, 487/35/25 Đường Huỳnh Tấn Phát, ...   \n",
       "\n",
       "                                                            ward  \\\n",
       "missing_ratio                                                0.0   \n",
       "num_diff_vals                                              166.0   \n",
       "diff_vals      [Phường Tân Tạo, Phường Tân Thuận Đông, Phường...   \n",
       "\n",
       "                                                        district  \n",
       "missing_ratio                                                0.0  \n",
       "num_diff_vals                                               24.0  \n",
       "diff_vals      [Quận Bình Tân, Quận 7, Quận Phú Nhuận, Quận 3...  "
      ]
     },
     "execution_count": 26,
     "metadata": {},
     "output_type": "execute_result"
    }
   ],
   "source": [
    "cate_cols_df = pd.DataFrame(columns=rented_house_df.columns.drop(['price', 'acreage']))\n",
    "\n",
    "num_missing_val = rented_house_df[cate_cols_df.columns].isnull().sum()\n",
    "\n",
    "cate_cols_df.loc['missing_ratio'] = num_missing_val / num_rows * 100\n",
    "\n",
    "cate_cols_df.loc['num_diff_vals'] = rented_house_df.apply(lambda x: x.nunique())\n",
    "\n",
    "cate_cols_df.loc['diff_vals'] = rented_house_df.apply(lambda x: x[~x.isnull()].unique())\n",
    "\n",
    "cate_cols_df"
   ]
  }
 ],
 "metadata": {
  "kernelspec": {
   "display_name": "Python 3",
   "language": "python",
   "name": "python3"
  },
  "language_info": {
   "codemirror_mode": {
    "name": "ipython",
    "version": 3
   },
   "file_extension": ".py",
   "mimetype": "text/x-python",
   "name": "python",
   "nbconvert_exporter": "python",
   "pygments_lexer": "ipython3",
   "version": "3.10.6"
  },
  "orig_nbformat": 4,
  "vscode": {
   "interpreter": {
    "hash": "916dbcbb3f70747c44a77c7bcd40155683ae19c65e1c03b4aa3499c5328201f1"
   }
  }
 },
 "nbformat": 4,
 "nbformat_minor": 2
}
