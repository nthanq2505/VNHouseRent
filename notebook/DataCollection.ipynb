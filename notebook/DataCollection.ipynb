{
 "cells": [
  {
   "attachments": {},
   "cell_type": "markdown",
   "metadata": {},
   "source": [
    "# Final Project\n",
    "\n",
    "\n",
    "**Group information**\n",
    "\n",
    "Student 1: 20127084 - Nguyễn Ngọc Bảo Trâm\n",
    "\n",
    "Student 2: 20127438 - Đặng Tiến Đạt\n",
    "\n",
    "Student 3: 20127627 - Nguyễn Quốc Thắng\n",
    "\n",
    "Student 4: 20127680 - Phạm Thị Ánh Phát"
   ]
  },
  {
   "attachments": {},
   "cell_type": "markdown",
   "metadata": {},
   "source": [
    "--- "
   ]
  },
  {
   "attachments": {},
   "cell_type": "markdown",
   "metadata": {},
   "source": [
    "## Import libraries"
   ]
  },
  {
   "cell_type": "code",
   "execution_count": 1,
   "metadata": {},
   "outputs": [],
   "source": [
    "import numpy as np\n",
    "import pandas as pd"
   ]
  },
  {
   "attachments": {},
   "cell_type": "markdown",
   "metadata": {},
   "source": [
    "---"
   ]
  },
  {
   "attachments": {},
   "cell_type": "markdown",
   "metadata": {},
   "source": [
    "## A. Data Collection"
   ]
  },
  {
   "attachments": {},
   "cell_type": "markdown",
   "metadata": {},
   "source": [
    "### What subject is data about? What is the source of the data?"
   ]
  },
  {
   "attachments": {},
   "cell_type": "markdown",
   "metadata": {},
   "source": [
    "- The issue of housing prices and rent is one of the issues students and workers are very concerned about at present. In this study, all prices of hostels and houses in Ho Chi Minh City from 2015 to present will be examined. To understand how prices change year over year, each region was examined. After that, it will help us find accommodation and housing depending on each person's needs\n",
    "- We will use the dataset that has already been collected and is attached as \"HCMHouseRent.csv\" in this assignment. This is information about **Vietnam House Rent Dataset**. This data is fetched from [here](https://www.kaggle.com/datasets/vanviethieuanh/vietnam-house-rent-dataset?select=hcm.csv)."
   ]
  },
  {
   "attachments": {},
   "cell_type": "markdown",
   "metadata": {},
   "source": [
    "### Do authors of this data allow you to use like this?"
   ]
  },
  {
   "attachments": {},
   "cell_type": "markdown",
   "metadata": {},
   "source": [
    "- Data files VĂN VIẾT HIẾU ANH Authors\n",
    "- Published on 13/08/2022"
   ]
  },
  {
   "attachments": {},
   "cell_type": "markdown",
   "metadata": {},
   "source": [
    "### How did authors collect data?"
   ]
  },
  {
   "attachments": {},
   "cell_type": "markdown",
   "metadata": {},
   "source": [
    "- The data is collected from the State Governments."
   ]
  }
 ],
 "metadata": {
  "kernelspec": {
   "display_name": "Python 3",
   "language": "python",
   "name": "python3"
  },
  "language_info": {
   "codemirror_mode": {
    "name": "ipython",
    "version": 3
   },
   "file_extension": ".py",
   "mimetype": "text/x-python",
   "name": "python",
   "nbconvert_exporter": "python",
   "pygments_lexer": "ipython3",
   "version": "3.10.6"
  },
  "orig_nbformat": 4,
  "vscode": {
   "interpreter": {
    "hash": "916dbcbb3f70747c44a77c7bcd40155683ae19c65e1c03b4aa3499c5328201f1"
   }
  }
 },
 "nbformat": 4,
 "nbformat_minor": 2
}
